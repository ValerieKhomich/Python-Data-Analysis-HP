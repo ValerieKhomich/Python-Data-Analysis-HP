{
 "cells": [
  {
   "cell_type": "markdown",
   "metadata": {
    "id": "LwNpAFw_eTF3"
   },
   "source": [
    "#Домашнє завдання до тем apply(), groupby(), pivot_table()"
   ]
  },
  {
   "cell_type": "markdown",
   "metadata": {
    "id": "vP2PEJyq8Yrj"
   },
   "source": [
    "В цьому домашньому завданні продовжуємо працювати з набором даних `supermarket_sales.csv`."
   ]
  },
  {
   "cell_type": "markdown",
   "metadata": {
    "id": "dh9lfpDb8gBL"
   },
   "source": [
    "0. Імпортуйте бібліотеку pandas та зчитайте дані у змінну `df` типу `pandas.DataFrame`."
   ]
  },
  {
   "cell_type": "code",
   "execution_count": 3,
   "metadata": {
    "id": "xBI9gJMK8qnl"
   },
   "outputs": [],
   "source": [
    "import pandas as pd\n",
    "df = pd.read_csv('../../Data/mod 3/supermarket_sales.csv')"
   ]
  },
  {
   "cell_type": "markdown",
   "metadata": {
    "id": "28638363"
   },
   "source": [
    "1. Дослідимо, який філіал супермаркету ('Branch') є найприбутковішим. Для цього знайдіть сумарний прибуток за кожним філіалом і виявіть, який філіал має найвищий."
   ]
  },
  {
   "cell_type": "code",
   "execution_count": 44,
   "metadata": {
    "ExecuteTime": {
     "end_time": "2022-11-01T17:27:42.023877Z",
     "start_time": "2022-11-01T17:27:42.020277Z"
    },
    "id": "916d731d"
   },
   "outputs": [
    {
     "data": {
      "text/plain": [
       "Branch\n",
       "C    250.723\n",
       "A    240.817\n",
       "B    240.811\n",
       "Name: Profit, dtype: float64"
      ]
     },
     "execution_count": 95,
     "metadata": {},
     "output_type": "execute_result"
    }
   ],
   "source": [
    "df['Profit'] = df['gross income'] * df['gross margin percentage'] / 100\n",
    "df.groupby('Branch')['Profit'].sum().sort_values(ascending = False).round(3)"
   ]
  },
  {
   "cell_type": "markdown",
   "metadata": {
    "id": "2qL_OddUCZKK"
   },
   "source": [
    "2. В якому місті знайходиться філіал з найвищим прибутком? Може в тому місці нам розмітисти ще один магазин.  \n",
    "Знайдіть відповідь за допомогою функціоналу Pandas."
   ]
  },
  {
   "cell_type": "code",
   "execution_count": 183,
   "metadata": {
    "id": "bBJUc1dWCwdi",
    "tags": []
   },
   "outputs": [
    {
     "data": {
      "text/plain": [
       "City\n",
       "Naypyitaw    250.722690\n",
       "Yangon       240.817167\n",
       "Mandalay     240.811048\n",
       "Name: Profit, dtype: float64"
      ]
     },
     "execution_count": 183,
     "metadata": {},
     "output_type": "execute_result"
    }
   ],
   "source": [
    "df.groupby('City')['Profit'].sum().sort_values(ascending = False)"
   ]
  },
  {
   "cell_type": "code",
   "execution_count": 185,
   "metadata": {},
   "outputs": [
    {
     "data": {
      "text/html": [
       "<div>\n",
       "<style scoped>\n",
       "    .dataframe tbody tr th:only-of-type {\n",
       "        vertical-align: middle;\n",
       "    }\n",
       "\n",
       "    .dataframe tbody tr th {\n",
       "        vertical-align: top;\n",
       "    }\n",
       "\n",
       "    .dataframe thead th {\n",
       "        text-align: right;\n",
       "    }\n",
       "</style>\n",
       "<table border=\"1\" class=\"dataframe\">\n",
       "  <thead>\n",
       "    <tr style=\"text-align: right;\">\n",
       "      <th></th>\n",
       "      <th>count</th>\n",
       "      <th>mean</th>\n",
       "      <th>std</th>\n",
       "      <th>min</th>\n",
       "      <th>25%</th>\n",
       "      <th>50%</th>\n",
       "      <th>75%</th>\n",
       "      <th>max</th>\n",
       "    </tr>\n",
       "    <tr>\n",
       "      <th>City</th>\n",
       "      <th></th>\n",
       "      <th></th>\n",
       "      <th></th>\n",
       "      <th></th>\n",
       "      <th></th>\n",
       "      <th></th>\n",
       "      <th></th>\n",
       "      <th></th>\n",
       "    </tr>\n",
       "  </thead>\n",
       "  <tbody>\n",
       "    <tr>\n",
       "      <th>Mandalay</th>\n",
       "      <td>332.0</td>\n",
       "      <td>0.725334</td>\n",
       "      <td>0.549768</td>\n",
       "      <td>0.042262</td>\n",
       "      <td>0.271964</td>\n",
       "      <td>0.573429</td>\n",
       "      <td>1.055750</td>\n",
       "      <td>2.318571</td>\n",
       "    </tr>\n",
       "    <tr>\n",
       "      <th>Naypyitaw</th>\n",
       "      <td>328.0</td>\n",
       "      <td>0.764398</td>\n",
       "      <td>0.596737</td>\n",
       "      <td>0.024214</td>\n",
       "      <td>0.275452</td>\n",
       "      <td>0.615464</td>\n",
       "      <td>1.124161</td>\n",
       "      <td>2.364286</td>\n",
       "    </tr>\n",
       "    <tr>\n",
       "      <th>Yangon</th>\n",
       "      <td>340.0</td>\n",
       "      <td>0.708286</td>\n",
       "      <td>0.525261</td>\n",
       "      <td>0.028786</td>\n",
       "      <td>0.311768</td>\n",
       "      <td>0.546095</td>\n",
       "      <td>1.041589</td>\n",
       "      <td>2.356667</td>\n",
       "    </tr>\n",
       "  </tbody>\n",
       "</table>\n",
       "</div>"
      ],
      "text/plain": [
       "           count      mean       std       min       25%       50%       75%  \\\n",
       "City                                                                           \n",
       "Mandalay   332.0  0.725334  0.549768  0.042262  0.271964  0.573429  1.055750   \n",
       "Naypyitaw  328.0  0.764398  0.596737  0.024214  0.275452  0.615464  1.124161   \n",
       "Yangon     340.0  0.708286  0.525261  0.028786  0.311768  0.546095  1.041589   \n",
       "\n",
       "                max  \n",
       "City                 \n",
       "Mandalay   2.318571  \n",
       "Naypyitaw  2.364286  \n",
       "Yangon     2.356667  "
      ]
     },
     "execution_count": 185,
     "metadata": {},
     "output_type": "execute_result"
    }
   ],
   "source": [
    "df.groupby('City')['Profit'].describe()"
   ]
  },
  {
   "cell_type": "markdown",
   "metadata": {},
   "source": [
    "Considering that the profit amount in this city does not significantly exceed the profitability metrics in other cities, based on these data alone, I would say that it is not advisable to open another store, relying solely on the profit amount. Furthermore, if we check the number of orders in this city, we see that Yangon and Mandalay both exceed Naypyitaw in terms of order volume. Thus, the demand in other cities is not worse."
   ]
  },
  {
   "cell_type": "markdown",
   "metadata": {
    "id": "6dec795f"
   },
   "source": [
    "3.1. Створіть зводну таблицю, яка покаже, скільки покупок (інвойсів) було зроблено в кожній з філій (`Branch`) за різними категоріями товарів. Запишіть таблицю в змінну `invoices_by_category` і виведіть змінну на екран.\n",
    "Ця таблиця допоможе проаналізувати, в якій філії купують найбільше товарів кожної з категорій."
   ]
  },
  {
   "cell_type": "code",
   "execution_count": 141,
   "metadata": {
    "id": "N7TfUBf4ZrkX"
   },
   "outputs": [
    {
     "data": {
      "text/html": [
       "<div>\n",
       "<style scoped>\n",
       "    .dataframe tbody tr th:only-of-type {\n",
       "        vertical-align: middle;\n",
       "    }\n",
       "\n",
       "    .dataframe tbody tr th {\n",
       "        vertical-align: top;\n",
       "    }\n",
       "\n",
       "    .dataframe thead th {\n",
       "        text-align: right;\n",
       "    }\n",
       "</style>\n",
       "<table border=\"1\" class=\"dataframe\">\n",
       "  <thead>\n",
       "    <tr style=\"text-align: right;\">\n",
       "      <th>Product line</th>\n",
       "      <th>Electronic accessories</th>\n",
       "      <th>Fashion accessories</th>\n",
       "      <th>Food and beverages</th>\n",
       "      <th>Health and beauty</th>\n",
       "      <th>Home and lifestyle</th>\n",
       "      <th>Sports and travel</th>\n",
       "    </tr>\n",
       "    <tr>\n",
       "      <th>Branch</th>\n",
       "      <th></th>\n",
       "      <th></th>\n",
       "      <th></th>\n",
       "      <th></th>\n",
       "      <th></th>\n",
       "      <th></th>\n",
       "    </tr>\n",
       "  </thead>\n",
       "  <tbody>\n",
       "    <tr>\n",
       "      <th>A</th>\n",
       "      <td>60</td>\n",
       "      <td>51</td>\n",
       "      <td>58</td>\n",
       "      <td>47</td>\n",
       "      <td>65</td>\n",
       "      <td>59</td>\n",
       "    </tr>\n",
       "    <tr>\n",
       "      <th>B</th>\n",
       "      <td>55</td>\n",
       "      <td>62</td>\n",
       "      <td>50</td>\n",
       "      <td>53</td>\n",
       "      <td>50</td>\n",
       "      <td>62</td>\n",
       "    </tr>\n",
       "    <tr>\n",
       "      <th>C</th>\n",
       "      <td>55</td>\n",
       "      <td>65</td>\n",
       "      <td>66</td>\n",
       "      <td>52</td>\n",
       "      <td>45</td>\n",
       "      <td>45</td>\n",
       "    </tr>\n",
       "  </tbody>\n",
       "</table>\n",
       "</div>"
      ],
      "text/plain": [
       "Product line  Electronic accessories  Fashion accessories  Food and beverages  \\\n",
       "Branch                                                                          \n",
       "A                                 60                   51                  58   \n",
       "B                                 55                   62                  50   \n",
       "C                                 55                   65                  66   \n",
       "\n",
       "Product line  Health and beauty  Home and lifestyle  Sports and travel  \n",
       "Branch                                                                  \n",
       "A                            47                  65                 59  \n",
       "B                            53                  50                 62  \n",
       "C                            52                  45                 45  "
      ]
     },
     "execution_count": 141,
     "metadata": {},
     "output_type": "execute_result"
    }
   ],
   "source": [
    "invoices_by_category = df.pivot_table(index='Branch', columns='Product line', values='Invoice ID', aggfunc='count')\n",
    "invoices_by_category"
   ]
  },
  {
   "cell_type": "markdown",
   "metadata": {
    "ExecuteTime": {
     "end_time": "2022-11-01T16:50:46.961201Z",
     "start_time": "2022-11-01T16:50:46.955894Z"
    },
    "id": "f5bbfa34"
   },
   "source": [
    "Очікуваний результат:"
   ]
  },
  {
   "cell_type": "markdown",
   "metadata": {
    "id": "34b9bcdc"
   },
   "source": [
    "![](https://drive.google.com/uc?export=view&id=1rueAdko6S3UxIHGtojetTxlES-EyM6Yb)"
   ]
  },
  {
   "cell_type": "markdown",
   "metadata": {
    "id": "woygDEA0OSwJ"
   },
   "source": [
    "3.2. Викристовуючи змінну `invoices_by_category` дайте відповідь програмно (тобто значення треба не просто знайти очима, а вивести за допомогою коду), в якому філіалі магазину (`Branch`) найбільше інвойсів із покупкою товарів категорії \"Електронні аксесуари\" (`Electronic accessories`)?\n"
   ]
  },
  {
   "cell_type": "code",
   "execution_count": 198,
   "metadata": {
    "id": "B5x8kTE-Qcq8"
   },
   "outputs": [
    {
     "data": {
      "text/plain": [
       "Branch\n",
       "A    60\n",
       "B    55\n",
       "C    55\n",
       "Name: Electronic accessories, dtype: int64"
      ]
     },
     "execution_count": 198,
     "metadata": {},
     "output_type": "execute_result"
    }
   ],
   "source": [
    "invoices_by_category['Electronic accessories'].sort_values(ascending = False)"
   ]
  },
  {
   "cell_type": "markdown",
   "metadata": {
    "ExecuteTime": {
     "end_time": "2022-11-01T17:56:02.981755Z",
     "start_time": "2022-11-01T17:56:02.977086Z"
    },
    "id": "d005a2b8"
   },
   "source": [
    "4-6. **Творче завдання на розвиток аналітичного мислення**\n",
    "\n",
    "Крок 1. Сформулюйте ТРИ питання (гіпотези) до наявних даних, які допомогли б вам зрозуміти, які користувачі що, де та коли найбільше/найменше купують, аби дати на основі цих гіпотез рекомендації бізнесу. Звісно питання мають бути не тими, на які ми вже відповіли в завданнях модулю.\n",
    "\n",
    "Крок 2. Знайдіть відповіді на свої питання з допомогою функціоналу pandas.\n",
    "\n",
    "Крок 3. Напишіть, як відповідь на це питання може бути використана для прийняття бізнес рішень.   \n",
    "   \n",
    " Питання можуть бути будь-якої складності, але їх має бути 3. Кожне питання оцінюється як 1 завдання. Без виконання цього завдання ДЗ не приймається. Якщо є питання щодо виконання - пишіть у чат 🙌\n"
   ]
  },
  {
   "cell_type": "markdown",
   "metadata": {},
   "source": [
    "1. *Which branch has the highest average sales check?* \n",
    "It may be worthwhile to focus on sales manager training. If managers in one of the stores are more effective in making customer proposals, selling more products, or achieving higher sales amounts, this could be a key area for improvement.\n",
    "\n",
    "2. *Which product line generates the most profit in each branch?* \n",
    "This information helps identify the most profitable niches. There is a possibility that a significant portion of the budget is spent on purchasing products that are not selling well. Therefore, it might be prudent to consider discontinuing certain product lines.\n",
    "\n",
    "3. *What is the gender distribution of the primary target audience for each branch?*\n",
    "Understanding the gender distribution helps in creating targeted promotional offers. For instance, women may be more impulsive in their purchases, while men might prefer reliable, high-quality products with numerous reviews on the site."
   ]
  },
  {
   "cell_type": "markdown",
   "metadata": {
    "id": "cM3cApWSZuRX"
   },
   "source": [
    "1. *Which branch has the highest average sales check?* "
   ]
  },
  {
   "cell_type": "code",
   "execution_count": 203,
   "metadata": {},
   "outputs": [
    {
     "data": {
      "text/plain": [
       "Branch  City     \n",
       "C       Naypyitaw    337.100\n",
       "B       Mandalay     319.873\n",
       "A       Yangon       312.354\n",
       "Name: Total, dtype: float64"
      ]
     },
     "execution_count": 203,
     "metadata": {},
     "output_type": "execute_result"
    }
   ],
   "source": [
    "df.groupby(['Branch', 'City'])['Total'].mean().sort_values(ascending = False).round(3)"
   ]
  },
  {
   "cell_type": "markdown",
   "metadata": {},
   "source": [
    "As observed, Branch C stands out as the leader, effectively engaging with customers and generating an average of 337 units of currency per visitor. In contrast, other branches lag significantly behind. A potential recommendation is to implement customer service training, focusing on skills such as handling objections, increasing sales, and building trust between the salesperson and the customer."
   ]
  },
  {
   "cell_type": "markdown",
   "metadata": {},
   "source": [
    "2. *Which product line generates the most profit in each branch?* "
   ]
  },
  {
   "cell_type": "code",
   "execution_count": 243,
   "metadata": {},
   "outputs": [
    {
     "data": {
      "text/html": [
       "<div>\n",
       "<style scoped>\n",
       "    .dataframe tbody tr th:only-of-type {\n",
       "        vertical-align: middle;\n",
       "    }\n",
       "\n",
       "    .dataframe tbody tr th {\n",
       "        vertical-align: top;\n",
       "    }\n",
       "\n",
       "    .dataframe thead th {\n",
       "        text-align: right;\n",
       "    }\n",
       "</style>\n",
       "<table border=\"1\" class=\"dataframe\">\n",
       "  <thead>\n",
       "    <tr style=\"text-align: right;\">\n",
       "      <th>Product line</th>\n",
       "      <th>Electronic accessories</th>\n",
       "      <th>Fashion accessories</th>\n",
       "      <th>Food and beverages</th>\n",
       "      <th>Health and beauty</th>\n",
       "      <th>Home and lifestyle</th>\n",
       "      <th>Sports and travel</th>\n",
       "    </tr>\n",
       "    <tr>\n",
       "      <th>Branch</th>\n",
       "      <th></th>\n",
       "      <th></th>\n",
       "      <th></th>\n",
       "      <th></th>\n",
       "      <th></th>\n",
       "      <th></th>\n",
       "    </tr>\n",
       "  </thead>\n",
       "  <tbody>\n",
       "    <tr>\n",
       "      <th>A</th>\n",
       "      <td>41.535405</td>\n",
       "      <td>37.035167</td>\n",
       "      <td>38.918595</td>\n",
       "      <td>28.566333</td>\n",
       "      <td>50.832643</td>\n",
       "      <td>43.929024</td>\n",
       "    </tr>\n",
       "    <tr>\n",
       "      <th>B</th>\n",
       "      <td>38.665405</td>\n",
       "      <td>37.218405</td>\n",
       "      <td>34.500881</td>\n",
       "      <td>45.307619</td>\n",
       "      <td>39.794024</td>\n",
       "      <td>45.324714</td>\n",
       "    </tr>\n",
       "    <tr>\n",
       "      <th>C</th>\n",
       "      <td>43.013548</td>\n",
       "      <td>48.889048</td>\n",
       "      <td>53.893095</td>\n",
       "      <td>37.676476</td>\n",
       "      <td>31.509190</td>\n",
       "      <td>35.741333</td>\n",
       "    </tr>\n",
       "  </tbody>\n",
       "</table>\n",
       "</div>"
      ],
      "text/plain": [
       "Product line  Electronic accessories  Fashion accessories  Food and beverages  \\\n",
       "Branch                                                                          \n",
       "A                          41.535405            37.035167           38.918595   \n",
       "B                          38.665405            37.218405           34.500881   \n",
       "C                          43.013548            48.889048           53.893095   \n",
       "\n",
       "Product line  Health and beauty  Home and lifestyle  Sports and travel  \n",
       "Branch                                                                  \n",
       "A                     28.566333           50.832643          43.929024  \n",
       "B                     45.307619           39.794024          45.324714  \n",
       "C                     37.676476           31.509190          35.741333  "
      ]
     },
     "execution_count": 243,
     "metadata": {},
     "output_type": "execute_result"
    }
   ],
   "source": [
    "df.pivot_table(index='Branch', columns='Product line', values='Profit', aggfunc='sum')"
   ]
  },
  {
   "cell_type": "markdown",
   "metadata": {},
   "source": [
    "For Branch A, it is evident that the product line 'Health and Beauty' is the least profitable, whereas the profit from 'Home and Lifestyle' products is the highest. It may be worth considering a shift in focus regarding product categories. For Branch C, the least profitable category is 'Home and Lifestyle', while 'Food and Beverages' is the most profitable. It might be advisable to develop the strong categories that generate higher profits. Over time, this could help establish the store’s reputation as having a great selection in, for example, 'Food and Beverages'."
   ]
  },
  {
   "cell_type": "markdown",
   "metadata": {},
   "source": [
    "3. *What is the gender distribution of the primary target audience for each branch?*"
   ]
  },
  {
   "cell_type": "code",
   "execution_count": 251,
   "metadata": {},
   "outputs": [
    {
     "data": {
      "text/plain": [
       "Branch  Gender\n",
       "A       Male      0.526471\n",
       "        Female    0.473529\n",
       "B       Male      0.512048\n",
       "        Female    0.487952\n",
       "C       Female    0.542683\n",
       "        Male      0.457317\n",
       "Name: Gender, dtype: float64"
      ]
     },
     "execution_count": 251,
     "metadata": {},
     "output_type": "execute_result"
    }
   ],
   "source": [
    "df.groupby('Branch').Gender.value_counts(normalize=True)"
   ]
  },
  {
   "cell_type": "markdown",
   "metadata": {},
   "source": [
    "As we can see, the majority of the audience across all branches are men. At the same time, the proportion of women is also significant. Therefore, it is essential to design promotional offers that target both genders, taking into account their specific preferences and needs."
   ]
  }
 ],
 "metadata": {
  "colab": {
   "provenance": []
  },
  "kernelspec": {
   "display_name": "Python 3 (ipykernel)",
   "language": "python",
   "name": "python3"
  },
  "language_info": {
   "codemirror_mode": {
    "name": "ipython",
    "version": 3
   },
   "file_extension": ".py",
   "mimetype": "text/x-python",
   "name": "python",
   "nbconvert_exporter": "python",
   "pygments_lexer": "ipython3",
   "version": "3.9.19"
  }
 },
 "nbformat": 4,
 "nbformat_minor": 4
}
