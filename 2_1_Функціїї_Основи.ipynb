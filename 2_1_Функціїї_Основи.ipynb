{
 "cells": [
  {
   "cell_type": "markdown",
   "metadata": {
    "id": "QtHabST6Ez_n"
   },
   "source": [
    "# Домашнє завдання до теми \"Functions\""
   ]
  },
  {
   "cell_type": "markdown",
   "metadata": {
    "id": "6pg_NzFq5_kO"
   },
   "source": [
    "1. Напишіть фукнцію `print_message`, яка виводить на екран \"Я програмую на Python💪\" і викличіть цю фукнцію 5 разів (найкраще це зробити в циклі).\n",
    "\n",
    "  **Увага**: фукнція має робити чітко лише зазначений функціонал. Наявність додаткового функціоналу і аргументів, які не потрібні для виконання безпосередньо завдання, буде вважатись помилкою."
   ]
  },
  {
   "cell_type": "code",
   "execution_count": 6,
   "metadata": {
    "id": "RbXsfwI_D8ql"
   },
   "outputs": [
    {
     "name": "stdout",
     "output_type": "stream",
     "text": [
      "Я програмую на Python💪\n",
      "Я програмую на Python💪\n",
      "Я програмую на Python💪\n",
      "Я програмую на Python💪\n",
      "Я програмую на Python💪\n"
     ]
    }
   ],
   "source": [
    "def print_message():\n",
    "    print('Я програмую на Python💪')\n",
    "    \n",
    "i = 0\n",
    "while i <= 4:\n",
    "    print_message()\n",
    "    i += 1"
   ]
  },
  {
   "cell_type": "markdown",
   "metadata": {
    "id": "oyRpWRXWBL9N"
   },
   "source": [
    "2. Напишіть функцію `calculation` яка приймає на вхід 4 аргументи типу int - `a`, `b`, `c`, `d` і вертає результат обчислення такої формули: $ (a + b - c) * d $.\n",
    "\n",
    "  Викличте функцію на наступному наборі аргументів і виведіть результат на екран:\n",
    "  ```\n",
    "  a = 16\n",
    "  b = 4\n",
    "  c = 9\n",
    "  d = 3\n",
    "  ```"
   ]
  },
  {
   "cell_type": "code",
   "execution_count": 52,
   "metadata": {
    "id": "Ggt2tx6kD-LS"
   },
   "outputs": [
    {
     "data": {
      "text/plain": [
       "33"
      ]
     },
     "execution_count": 52,
     "metadata": {},
     "output_type": "execute_result"
    }
   ],
   "source": [
    "def calculation(a: int, b: int, c: int, d: int):\n",
    "    return (a + b - c) * d\n",
    "\n",
    "calculation(16, 4, 9, 3)"
   ]
  },
  {
   "cell_type": "markdown",
   "metadata": {
    "id": "5hf1CbllDU_t"
   },
   "source": [
    "3. Напишіть функцію, яка додає до аргумента 15 і вертає результат додавання. Викличте функцію, передаючи в якості аргументів кожну з наступних змінних по черзі, і виведіть кожного разу результат на екран.\n",
    "```\n",
    "x = 9\n",
    "y = 14\n",
    "z = -19\n",
    "```"
   ]
  },
  {
   "cell_type": "code",
   "execution_count": 54,
   "metadata": {
    "id": "GvEs_nUtD_Cd"
   },
   "outputs": [
    {
     "name": "stdout",
     "output_type": "stream",
     "text": [
      "24\n",
      "29\n",
      "-4\n"
     ]
    }
   ],
   "source": [
    "def add(arg):\n",
    "    return arg + 15\n",
    "\n",
    "x = 9\n",
    "y = 14\n",
    "z = -19\n",
    "\n",
    "print(add(x))\n",
    "print(add(y))\n",
    "print(add(z))\n"
   ]
  },
  {
   "cell_type": "markdown",
   "metadata": {
    "id": "bUuVBhie53uK"
   },
   "source": [
    "4. Напишіть функцію `multipy_numbers`, яка приймає два числа як аргументи і повертає їх добуток.\n",
    "\n",
    "  Викличіть функцію `multipy_numbers` на парах чисел\n",
    "    - 10 і 2\n",
    "    - 7 і 8\n",
    "    - 1024 і 999.\n",
    "  \n",
    "  Виведіть результат кожного виклику.\n",
    "  При виконанні цього завдання з використанням циклу - отримаєте 2х балів за нього :)"
   ]
  },
  {
   "cell_type": "code",
   "execution_count": 84,
   "metadata": {
    "id": "cDqrgZ4YEAKj"
   },
   "outputs": [
    {
     "name": "stdout",
     "output_type": "stream",
     "text": [
      "-20\n",
      "-56\n",
      "-1022976\n"
     ]
    }
   ],
   "source": [
    "def multipy_numbers(num1, num2):\n",
    "    return num1 * num2\n",
    "\n",
    "list1 = [-10, -7, -1024]\n",
    "list2 = [2, 8, 999]\n",
    "\n",
    "for i, j in zip(list1, list2):\n",
    "    print(multipy_numbers(i, j))"
   ]
  },
  {
   "cell_type": "markdown",
   "metadata": {
    "id": "I03t46k27dDZ"
   },
   "source": [
    "5. **Ділення з перевіркою типів.**  \n",
    "\n",
    "  1. Напишіть функцію `int_division` яка приймає на вхід два аргументи типу `int` - `a` і `b`, і виконує ділення першого аргумента на другий: `a/b`. При цьому функція перед діленням перевіряє, чи другий аргумент не дорівнює 0. Якщо другий аргумент не 0, фукнція вертає результат ділення, інакше - замість виконання ділення, вертає повідомлення на екран \"Не можу виконати ділення на 0\".\n",
    "\n",
    "    Якщо типи, надані у функцію, не `int` - функція виводить повідомлення \"Не працюю з такими типами даних.\".\n",
    "\n",
    "  2. Запустіть функцію на наступних парах чисел:\n",
    "  - 12 і 6\n",
    "  - 20 і 0\n",
    "  - 112 і 10\n",
    "  - 99 і 0\n",
    "  - 11 i 1.1\n",
    "\n",
    "    і виведіть на екран повідомлення \"Результат роботи функції: \" - і далі те, що повернула функція.\n",
    "\n",
    "  3. Дайте відповідь на питання: \"Чому в деяких випадках функція повернула None?\""
   ]
  },
  {
   "cell_type": "code",
   "execution_count": 147,
   "metadata": {
    "id": "1-EQhxrAEEAb"
   },
   "outputs": [
    {
     "name": "stdout",
     "output_type": "stream",
     "text": [
      "Результат роботи функції: 2.0\n",
      "Результат роботи функції: Не можу виконати ділення на 0\n",
      "Результат роботи функції: 11.2\n",
      "Результат роботи функції: Не можу виконати ділення на 0\n",
      "Не працюю з такими типами даних.\n",
      "Результат роботи функції: None\n"
     ]
    }
   ],
   "source": [
    "def int_division(a: int, b: int):\n",
    "    if type(a) != int or type(b) != int:\n",
    "        print(\"Не працюю з такими типами даних.\")\n",
    "    elif b == 0:\n",
    "        return \"Не можу виконати ділення на 0\"\n",
    "    else:\n",
    "        return a/b\n",
    "\n",
    "list1 = [(12, 6), (20, 0), (112, 10), (99, 0), (11, 1.1)]\n",
    "\n",
    "for i in list1:\n",
    "    print('Результат роботи функції:', int_division(*i))\n",
    "    "
   ]
  },
  {
   "cell_type": "markdown",
   "metadata": {
    "jupyter": {
     "source_hidden": true
    },
    "tags": []
   },
   "source": [
    "3. При останній ітерації циклу набір даних (11 та 1.1) потрапляє в першу вітку функції - на перевірку типу даних. Тип даних другого аргументу - float, тому функція виводить повідомлення \"Не працюю з такими типами даних\", і результату роботи функції - ділення двох аргументів a/b - немає, він - None. \n",
    "\n",
    "Для того, щоб остання ітерація циклу повернула \"Результат роботи функції: Не працюю з такими типами даних.\", потрібно в функції print() замінити на return."
   ]
  }
 ],
 "metadata": {
  "colab": {
   "provenance": []
  },
  "kernelspec": {
   "display_name": "Python 3 (ipykernel)",
   "language": "python",
   "name": "python3"
  },
  "language_info": {
   "codemirror_mode": {
    "name": "ipython",
    "version": 3
   },
   "file_extension": ".py",
   "mimetype": "text/x-python",
   "name": "python",
   "nbconvert_exporter": "python",
   "pygments_lexer": "ipython3",
   "version": "3.9.19"
  }
 },
 "nbformat": 4,
 "nbformat_minor": 4
}
